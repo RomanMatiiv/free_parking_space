{
 "cells": [
  {
   "cell_type": "markdown",
   "metadata": {},
   "source": [
    "https://www.geeksforgeeks.org/opencv-python-program-vehicle-detection-video-frame/"
   ]
  },
  {
   "cell_type": "code",
   "execution_count": 10,
   "metadata": {},
   "outputs": [],
   "source": [
    "import cv2\n",
    "import matplotlib.pyplot as plt\n",
    "\n",
    "PATH_TO_DATA = \"/home/roman/projects/free_parking_space/data/cars1.mp4\""
   ]
  },
  {
   "cell_type": "code",
   "execution_count": 11,
   "metadata": {},
   "outputs": [],
   "source": [
    "cap = cv2.VideoCapture(PATH_TO_DATA)"
   ]
  },
  {
   "cell_type": "code",
   "execution_count": 12,
   "metadata": {},
   "outputs": [],
   "source": [
    "car_cascade = cv2.CascadeClassifier('/home/roman/projects/free_parking_space/cv2_way/cascade/cars1.xml') "
   ]
  },
  {
   "cell_type": "code",
   "execution_count": 13,
   "metadata": {},
   "outputs": [],
   "source": [
    "# loop runs if capturing has been initialized. \n",
    "while cap.isOpened(): \n",
    "    # reads frames from a video \n",
    "    ret, frames = cap.read() \n",
    "    \n",
    "    if not ret:\n",
    "        cv2.destroyAllWindows()\n",
    "        cap.release()\n",
    "\n",
    "    else:\n",
    "        # convert to gray scale of each frames \n",
    "        gray = cv2.cvtColor(frames, cv2.COLOR_BGR2GRAY) \n",
    "\n",
    "\n",
    "        # Detects cars of different sizes in the input image \n",
    "        cars = car_cascade.detectMultiScale(gray, 1.1, 1) \n",
    "\n",
    "        # To draw a rectangle in each cars \n",
    "        for (x,y,w,h) in cars: \n",
    "            cv2.rectangle(frames,(x,y),(x+w,y+h),(0,0,255),2) \n",
    "\n",
    "       # Display frames in a window  \n",
    "        cv2.imshow('video2', frames) \n",
    "\n",
    "        # Wait for Esc key to stop \n",
    "        if cv2.waitKey(33) == 27: \n",
    "            break\n",
    "        \n",
    "cap.release()\n",
    "cv2.destroyAllWindows()"
   ]
  },
  {
   "cell_type": "markdown",
   "metadata": {},
   "source": [
    "\n",
    "________________"
   ]
  }
 ],
 "metadata": {
  "kernelspec": {
   "display_name": "Python 3",
   "language": "python",
   "name": "python3"
  },
  "language_info": {
   "codemirror_mode": {
    "name": "ipython",
    "version": 3
   },
   "file_extension": ".py",
   "mimetype": "text/x-python",
   "name": "python",
   "nbconvert_exporter": "python",
   "pygments_lexer": "ipython3",
   "version": "3.7.3"
  }
 },
 "nbformat": 4,
 "nbformat_minor": 2
}
