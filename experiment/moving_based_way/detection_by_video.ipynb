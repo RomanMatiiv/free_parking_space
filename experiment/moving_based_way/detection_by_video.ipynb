{
 "cells": [
  {
   "cell_type": "markdown",
   "metadata": {},
   "source": [
    "https://www.geeksforgeeks.org/webcam-motion-detector-python/"
   ]
  },
  {
   "cell_type": "code",
   "execution_count": 1,
   "metadata": {},
   "outputs": [],
   "source": [
    "import numpy as np\n",
    "import cv2\n",
    "\n",
    "import time"
   ]
  },
  {
   "cell_type": "code",
   "execution_count": 4,
   "metadata": {},
   "outputs": [],
   "source": [
    "fgbg = cv2.bgsegm.createBackgroundSubtractorMOG(backgroundRatio=0.8)\n",
    "\n",
    "# Assigning our static_back to None \n",
    "static_back = None\n",
    "  \n",
    "# Capturing video \n",
    "video = cv2.VideoCapture('/home/roman/projects/free_parking_space/data/our_parking_car_try_parking2_day.mp4')\n",
    "\n",
    "# fourcc = cv2.VideoWriter_fourcc(*'MJPG')\n",
    "# writer = cv2.VideoWriter('/home/roman/projects/free_parking_space/data/test.mp4',fourcc, 20,(1280,1024))\n",
    "\n",
    "\n",
    "# MIN_SIZE_OBJECT = 2000\n",
    "MIN_SIZE_OBJECT = 6000\n",
    "TRESHOLD = 30\n",
    "BLUR_FILTER_SIZE = (3, 3)\n",
    "\n",
    "while video.isOpened():\n",
    "    check, frame = video.read() \n",
    "    if not check:\n",
    "        break\n",
    "    \n",
    "    gray = cv2.cvtColor(frame, cv2.COLOR_BGR2GRAY) \n",
    "    gray = cv2.GaussianBlur(gray, BLUR_FILTER_SIZE, 0)\n",
    "    \n",
    "    fgmask = fgbg.apply(gray)\n",
    "\n",
    "    # for first iteration \n",
    "    if static_back is None: \n",
    "        static_back = fgmask \n",
    "        continue\n",
    "\n",
    "    # Difference between background and curent frame   \n",
    "    diff_frame = cv2.absdiff(static_back, fgmask) \n",
    "\n",
    "    # If change in between static background and \n",
    "    # current frame is greater than TRESHOLD it will show white color(255) \n",
    "    thresh_frame = cv2.threshold(diff_frame, TRESHOLD, 255,cv2.THRESH_BINARY)[1] \n",
    "    thresh_frame = cv2.dilate(thresh_frame, None, iterations = 2) \n",
    "\n",
    "    # Finding contour of moving object \n",
    "    cnts, _ = cv2.findContours(thresh_frame.copy(),  \n",
    "                               cv2.RETR_EXTERNAL, \n",
    "                               cv2.CHAIN_APPROX_SIMPLE)\n",
    "    \n",
    "    for contour in cnts: \n",
    "        if cv2.contourArea(contour) > MIN_SIZE_OBJECT: \n",
    "\n",
    "            (x, y, w, h) = cv2.boundingRect(contour) \n",
    "            # making green rectangle arround the moving object \n",
    "            cv2.rectangle(frame, (x, y), (x + w, y + h), (0, 255, 0), 3)\n",
    "            \n",
    "            x_center = int(x+0.5*w)\n",
    "            y_center = int(y+0.5*h)\n",
    "            cv2.circle(frame,(x_center,y_center), 1, (0,0,255), 2)\n",
    "\n",
    "\n",
    "\n",
    "    cv2.imshow(\"Difference Frame\", diff_frame) \n",
    "#     cv2.imshow(\"Color Frame\", frame)\n",
    "#     writer.write(frame)\n",
    "\n",
    "    if cv2.waitKey(33) == 27:\n",
    "            break\n",
    "        \n",
    "\n",
    "video.release()\n",
    "# writer.release()\n",
    "cv2.destroyAllWindows() "
   ]
  },
  {
   "cell_type": "code",
   "execution_count": null,
   "metadata": {},
   "outputs": [],
   "source": []
  },
  {
   "cell_type": "code",
   "execution_count": null,
   "metadata": {},
   "outputs": [],
   "source": []
  },
  {
   "cell_type": "code",
   "execution_count": null,
   "metadata": {},
   "outputs": [],
   "source": []
  },
  {
   "cell_type": "code",
   "execution_count": null,
   "metadata": {},
   "outputs": [],
   "source": []
  },
  {
   "cell_type": "code",
   "execution_count": null,
   "metadata": {},
   "outputs": [],
   "source": []
  },
  {
   "cell_type": "code",
   "execution_count": null,
   "metadata": {},
   "outputs": [],
   "source": []
  },
  {
   "cell_type": "code",
   "execution_count": null,
   "metadata": {},
   "outputs": [],
   "source": []
  }
 ],
 "metadata": {
  "kernelspec": {
   "display_name": "Python 3",
   "language": "python",
   "name": "python3"
  },
  "language_info": {
   "codemirror_mode": {
    "name": "ipython",
    "version": 3
   },
   "file_extension": ".py",
   "mimetype": "text/x-python",
   "name": "python",
   "nbconvert_exporter": "python",
   "pygments_lexer": "ipython3",
   "version": "3.7.3"
  }
 },
 "nbformat": 4,
 "nbformat_minor": 2
}
