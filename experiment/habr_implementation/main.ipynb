{
 "cells": [
  {
   "cell_type": "code",
   "execution_count": 11,
   "metadata": {},
   "outputs": [],
   "source": [
    "import numpy as np\n",
    "import cv2\n",
    "import mrcnn.config\n",
    "import mrcnn.utils\n",
    "from mrcnn.model import MaskRCNN\n",
    "from pathlib import Path"
   ]
  },
  {
   "cell_type": "code",
   "execution_count": 16,
   "metadata": {},
   "outputs": [],
   "source": [
    "# Конфигурация, которую будет использовать библиотека Mask-RCNN.\n",
    "class MaskRCNNConfig(mrcnn.config.Config):\n",
    "    NAME = \"coco_pretrained_model_config\"\n",
    "    IMAGES_PER_GPU = 1\n",
    "    GPU_COUNT = 1\n",
    "    NUM_CLASSES = 1 + 80  # в датасете COCO находится 80 классов + 1 фоновый класс.\n",
    "    DETECTION_MIN_CONFIDENCE = 0.6\n",
    "    \n",
    "    # Фильтруем список результатов распознавания, чтобы остались только автомобили.\n",
    "def get_car_boxes(boxes, class_ids):\n",
    "    car_boxes = []\n",
    "\n",
    "    for i, box in enumerate(boxes):\n",
    "        # Если найденный объект не автомобиль, то пропускаем его.\n",
    "        if class_ids[i] in [3, 8, 6]:\n",
    "            car_boxes.append(box)\n",
    "\n",
    "    return np.array(car_boxes)"
   ]
  },
  {
   "cell_type": "code",
   "execution_count": 17,
   "metadata": {},
   "outputs": [],
   "source": [
    "# Корневая директория проекта.\n",
    "ROOT_DIR = Path(\".\")\n",
    "\n",
    "# Директория для сохранения логов и обученной модели.\n",
    "MODEL_DIR = ROOT_DIR / \"logs\"\n",
    "\n",
    "# Локальный путь к файлу с обученными весами.\n",
    "COCO_MODEL_PATH = ROOT_DIR / \"weights\" / \"mask_rcnn_coco.h5\"\n",
    "\n",
    "# Директория с изображениями для обработки.\n",
    "# IMAGE_DIR = ROOT_DIR / \"images\"\n",
    "\n",
    "# Видеофайл или камера для обработки — вставьте значение 0, если использовать камеру, а не видеофайл.\n",
    "VIDEO_SOURCE = \"/home/roman/projects/free_parking_space/data/video3.mp4\""
   ]
  },
  {
   "cell_type": "code",
   "execution_count": 18,
   "metadata": {},
   "outputs": [],
   "source": [
    "# Загружаем датасет COCO при необходимости.\n",
    "if not COCO_MODEL_PATH.exists():\n",
    "    mrcnn.utils.download_trained_weights(str(COCO_MODEL_PATH))"
   ]
  },
  {
   "cell_type": "code",
   "execution_count": 19,
   "metadata": {},
   "outputs": [
    {
     "name": "stdout",
     "output_type": "stream",
     "text": [
      "WARNING:tensorflow:From /home/roman/anaconda3/envs/FPS/lib/python3.7/site-packages/mrcnn/model.py:775: to_float (from tensorflow.python.ops.math_ops) is deprecated and will be removed in a future version.\n",
      "Instructions for updating:\n",
      "Use tf.cast instead.\n"
     ]
    }
   ],
   "source": [
    "# Создаём модель Mask-RCNN в режиме вывода.\n",
    "model = MaskRCNN(mode=\"inference\", model_dir=MODEL_DIR, config=MaskRCNNConfig())"
   ]
  },
  {
   "cell_type": "code",
   "execution_count": 20,
   "metadata": {},
   "outputs": [],
   "source": [
    "# Загружаем предобученную модель.\n",
    "model.load_weights(str(COCO_MODEL_PATH), by_name=True)"
   ]
  },
  {
   "cell_type": "code",
   "execution_count": 21,
   "metadata": {},
   "outputs": [],
   "source": [
    "# Местоположение парковочных мест.\n",
    "parked_car_boxes = None"
   ]
  },
  {
   "cell_type": "code",
   "execution_count": 22,
   "metadata": {},
   "outputs": [],
   "source": [
    "# Загружаем видеофайл, для которого хотим запустить распознавание.\n",
    "video_capture = cv2.VideoCapture(VIDEO_SOURCE)"
   ]
  },
  {
   "cell_type": "code",
   "execution_count": 23,
   "metadata": {},
   "outputs": [],
   "source": [
    "# Сколько кадров подряд с пустым местом мы уже видели.\n",
    "free_space_frames = 0"
   ]
  },
  {
   "cell_type": "code",
   "execution_count": 25,
   "metadata": {},
   "outputs": [
    {
     "name": "stdout",
     "output_type": "stream",
     "text": [
      "1\n"
     ]
    },
    {
     "ename": "AssertionError",
     "evalue": "len(images) must be equal to BATCH_SIZE",
     "output_type": "error",
     "traceback": [
      "\u001b[0;31m---------------------------------------------------------------------------\u001b[0m",
      "\u001b[0;31mAssertionError\u001b[0m                            Traceback (most recent call last)",
      "\u001b[0;32m<ipython-input-25-25c931293581>\u001b[0m in \u001b[0;36m<module>\u001b[0;34m\u001b[0m\n\u001b[1;32m     13\u001b[0m \u001b[0;34m\u001b[0m\u001b[0m\n\u001b[1;32m     14\u001b[0m     \u001b[0;31m# Подаём изображение модели Mask R-CNN для получения результата.\u001b[0m\u001b[0;34m\u001b[0m\u001b[0;34m\u001b[0m\u001b[0;34m\u001b[0m\u001b[0m\n\u001b[0;32m---> 15\u001b[0;31m     \u001b[0mresults\u001b[0m \u001b[0;34m=\u001b[0m \u001b[0mmodel\u001b[0m\u001b[0;34m.\u001b[0m\u001b[0mdetect\u001b[0m\u001b[0;34m(\u001b[0m\u001b[0;34m[\u001b[0m\u001b[0mrgb_image\u001b[0m\u001b[0;34m]\u001b[0m\u001b[0;34m,\u001b[0m \u001b[0mverbose\u001b[0m\u001b[0;34m=\u001b[0m\u001b[0;36m0\u001b[0m\u001b[0;34m)\u001b[0m\u001b[0;34m\u001b[0m\u001b[0;34m\u001b[0m\u001b[0m\n\u001b[0m\u001b[1;32m     16\u001b[0m \u001b[0;34m\u001b[0m\u001b[0m\n\u001b[1;32m     17\u001b[0m     \u001b[0;31m# Mask R-CNN предполагает, что мы распознаём объекты на множественных изображениях.\u001b[0m\u001b[0;34m\u001b[0m\u001b[0;34m\u001b[0m\u001b[0;34m\u001b[0m\u001b[0m\n",
      "\u001b[0;32m~/anaconda3/envs/FPS/lib/python3.7/site-packages/mrcnn/model.py\u001b[0m in \u001b[0;36mdetect\u001b[0;34m(self, images, verbose)\u001b[0m\n\u001b[1;32m   2471\u001b[0m         \u001b[0;32massert\u001b[0m \u001b[0mself\u001b[0m\u001b[0;34m.\u001b[0m\u001b[0mmode\u001b[0m \u001b[0;34m==\u001b[0m \u001b[0;34m\"inference\"\u001b[0m\u001b[0;34m,\u001b[0m \u001b[0;34m\"Create model in inference mode.\"\u001b[0m\u001b[0;34m\u001b[0m\u001b[0;34m\u001b[0m\u001b[0m\n\u001b[1;32m   2472\u001b[0m         assert len(\n\u001b[0;32m-> 2473\u001b[0;31m             images) == self.config.BATCH_SIZE, \"len(images) must be equal to BATCH_SIZE\"\n\u001b[0m\u001b[1;32m   2474\u001b[0m \u001b[0;34m\u001b[0m\u001b[0m\n\u001b[1;32m   2475\u001b[0m         \u001b[0;32mif\u001b[0m \u001b[0mverbose\u001b[0m\u001b[0;34m:\u001b[0m\u001b[0;34m\u001b[0m\u001b[0;34m\u001b[0m\u001b[0m\n",
      "\u001b[0;31mAssertionError\u001b[0m: len(images) must be equal to BATCH_SIZE"
     ]
    }
   ],
   "source": [
    "# Проходимся в цикле по каждому кадру.\n",
    "fr=0\n",
    "\n",
    "while video_capture.isOpened():\n",
    "    fr+=1\n",
    "    print(fr)\n",
    "    success, frame = video_capture.read()\n",
    "    if not success:\n",
    "        break\n",
    "\n",
    "    # Конвертируем изображение из цветовой модели BGR в RGB.\n",
    "    rgb_image = frame[:, :, ::-1]\n",
    "\n",
    "    # Подаём изображение модели Mask R-CNN для получения результата.\n",
    "    results = model.detect([rgb_image], verbose=0)\n",
    "\n",
    "    # Mask R-CNN предполагает, что мы распознаём объекты на множественных изображениях.\n",
    "    # Мы передали только одно изображение, поэтому извлекаем только первый результат.\n",
    "    r = results[0]\n",
    "\n",
    "    # Переменная r теперь содержит результаты распознавания:\n",
    "    # - r['rois'] — ограничивающая рамка для каждого распознанного объекта;\n",
    "    # - r['class_ids'] — идентификатор (тип) объекта;\n",
    "    # - r['scores'] — степень уверенности;\n",
    "    # - r['masks'] — маски объектов (что даёт вам их контур).\n",
    "\n",
    "    if parked_car_boxes is None:\n",
    "        # Это первый кадр видео — допустим, что все обнаруженные машины стоят на парковке.\n",
    "        # Сохраняем местоположение каждой машины как парковочное место и переходим к следующему кадру.\n",
    "        parked_car_boxes = get_car_boxes(r['rois'], r['class_ids'])\n",
    "    else:\n",
    "        # Мы уже знаем, где места. Проверяем, есть ли свободные.\n",
    "\n",
    "        # Ищем машины на текущем кадре.\n",
    "        car_boxes = get_car_boxes(r['rois'], r['class_ids'])\n",
    "\n",
    "        # Смотрим, как сильно эти машины пересекаются с известными парковочными местами.\n",
    "        overlaps = mrcnn.utils.compute_overlaps(parked_car_boxes, car_boxes)\n",
    "\n",
    "        # Предполагаем, что свободных мест нет, пока не найдём хотя бы одно.\n",
    "        free_space = False\n",
    "\n",
    "        # Проходимся в цикле по каждому известному парковочному месту.\n",
    "        for parking_area, overlap_areas in zip(parked_car_boxes, overlaps):\n",
    "\n",
    "            # Ищем максимальное значение пересечения с любой обнаруженной\n",
    "            # на кадре машиной (неважно, какой).\n",
    "            max_IoU_overlap = np.max(overlap_areas)\n",
    "\n",
    "            # Получаем верхнюю левую и нижнюю правую координаты парковочного места.\n",
    "            y1, x1, y2, x2 = parking_area\n",
    "\n",
    "            # Проверяем, свободно ли место, проверив значение IoU.\n",
    "            if max_IoU_overlap < 0.15:\n",
    "                # Место свободно! Рисуем зелёную рамку вокруг него.\n",
    "                cv2.rectangle(frame, (x1, y1), (x2, y2), (0, 255, 0), 3)\n",
    "                # Отмечаем, что мы нашли как минимум оно свободное место.\n",
    "                free_space = True\n",
    "            else:\n",
    "                # Место всё ещё занято — рисуем красную рамку.\n",
    "                cv2.rectangle(frame, (x1, y1), (x2, y2), (0, 0, 255), 1)\n",
    "\n",
    "            # Записываем значение IoU внутри рамки.\n",
    "            font = cv2.FONT_HERSHEY_DUPLEX\n",
    "            cv2.putText(frame, f\"{max_IoU_overlap:0.2}\", (x1 + 6, y2 - 6), font, 0.3, (255, 255, 255))\n",
    "\n",
    "        # Если хотя бы одно место было свободным, начинаем считать кадры.\n",
    "        # Это для того, чтобы убедиться, что место действительно свободно\n",
    "        # и не отправить лишний раз уведомление.\n",
    "        if free_space:\n",
    "            free_space_frames += 1\n",
    "        else:\n",
    "            # Если всё занято, обнуляем счётчик.\n",
    "            free_space_frames = 0\n",
    "\n",
    "        # Если место свободно на протяжении нескольких кадров, можно сказать, что оно свободно.\n",
    "        if free_space_frames > 80:\n",
    "            # Отображаем надпись SPACE AVAILABLE!! вверху экрана.\n",
    "            font = cv2.FONT_HERSHEY_DUPLEX\n",
    "#             cv2.putText(frame, f\"SPACE AVAILABLE!\", (10, 150), font, 3.0, (0, 255, 0), 2, cv2.FILLED)\n",
    "            print(\"Своюодное место найденно\")\n",
    "\n",
    "        # Показываем кадр на экране.\n",
    "        cv2.imshow('Video', frame)\n",
    "\n",
    "    # Нажмите 'q', чтобы выйти.\n",
    "    if cv2.waitKey(1) & 0xFF == ord('q'):\n",
    "        break\n",
    "\n",
    "# Нажмите 'q', чтобы выйти.\n",
    "video_capture.release()\n",
    "cv2.destroyAllWindows()"
   ]
  },
  {
   "cell_type": "code",
   "execution_count": null,
   "metadata": {},
   "outputs": [],
   "source": []
  }
 ],
 "metadata": {
  "kernelspec": {
   "display_name": "Python 3",
   "language": "python",
   "name": "python3"
  },
  "language_info": {
   "codemirror_mode": {
    "name": "ipython",
    "version": 3
   },
   "file_extension": ".py",
   "mimetype": "text/x-python",
   "name": "python",
   "nbconvert_exporter": "python",
   "pygments_lexer": "ipython3",
   "version": "3.7.3"
  }
 },
 "nbformat": 4,
 "nbformat_minor": 2
}
